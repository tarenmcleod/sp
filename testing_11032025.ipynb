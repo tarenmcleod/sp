{
 "cells": [
  {
   "cell_type": "code",
   "execution_count": 34,
   "id": "40fea855-be18-4c1c-bf2c-f28cc10ad6cf",
   "metadata": {},
   "outputs": [
    {
     "name": "stdout",
     "output_type": "stream",
     "text": [
      "              Station                           Time  Temperature    RH  \\\n",
      "0     nebelhorn-pit_3  2022-01-22T12:00:00.000000000          NaN  None   \n",
      "1   nebelhorn-pit_116  2022-01-22T12:00:00.000000000   271.133333  None   \n",
      "2   nebelhorn-pit_305  2022-01-22T12:00:00.000000000          NaN  None   \n",
      "3   nebelhorn-pit_209  2022-01-22T12:00:00.000000000          NaN  None   \n",
      "4   nebelhorn-pit_119  2022-01-22T12:00:00.000000000   271.225000  None   \n",
      "..                ...                            ...          ...   ...   \n",
      "89  nebelhorn-pit_611  2022-01-22T12:00:00.000000000          NaN  None   \n",
      "90  nebelhorn-pit_213  2022-01-22T12:00:00.000000000   270.291667  None   \n",
      "91           dwd_3730  2022-01-22T12:00:00.000000000   272.950000  None   \n",
      "92  nebelhorn-pit_101  2022-01-22T12:00:00.000000000   270.625000  None   \n",
      "93  nebelhorn-pit_306  2022-01-22T12:00:00.000000000          NaN  None   \n",
      "\n",
      "    Wind Speed  Wind Dir   Latitude  Longitude     Altitude  \n",
      "0          NaN       NaN  47.409702  10.315118  1335.480957  \n",
      "1          NaN       NaN  47.410301  10.296711  1025.077026  \n",
      "2          NaN       NaN  47.412685  10.345387  1911.375977  \n",
      "3          NaN       NaN  47.408394  10.326666  1395.333008  \n",
      "4          NaN       NaN  47.408539  10.295107   976.849976  \n",
      "..         ...       ...        ...        ...          ...  \n",
      "89         NaN       NaN  47.420052  10.346021  2110.737061  \n",
      "90         NaN       NaN  47.408798  10.331722  1443.462036  \n",
      "91         1.5     160.0  47.398400  10.275900   806.000000  \n",
      "92         NaN       NaN  47.409805  10.310995  1294.532959  \n",
      "93         NaN       NaN  47.412434  10.344660  1891.878052  \n",
      "\n",
      "[94 rows x 9 columns]\n"
     ]
    }
   ],
   "source": [
    "import xarray as xr\n",
    "import pandas as pd\n",
    "import os\n",
    "import numpy as np\n",
    "\n",
    "# Folder containing NetCDF files\n",
    "folder_path = \"/home/pcuser/titanlib/notebooks/nebelhorn\"\n",
    "\n",
    "# Define the target timestamp\n",
    "# Best Time: 2022-01-22 12:00:00 with 94 stations having data\n",
    "\n",
    "target_time = pd.to_datetime(\"2022-01-22-T12:00:00\")\n",
    "\n",
    "\n",
    "# List to store extracted data\n",
    "data_list = []\n",
    "\n",
    "# Loop through all NetCDF files in the folder\n",
    "for file in os.listdir(folder_path):\n",
    "    if file.endswith(\".nc\"):\n",
    "        file_path = os.path.join(folder_path, file)\n",
    "        \n",
    "        # Open the NetCDF file\n",
    "        ds = xr.open_dataset(file_path)\n",
    "        \n",
    "        # Extract station name (assuming it's in the filename)\n",
    "        station_name = file.split(\".nc\")[0]  # Modify if needed\n",
    "        \n",
    "        # Convert time if it is stored as \"hours since X\"\n",
    "        if np.issubdtype(ds.time.dtype, np.integer) or np.issubdtype(ds.time.dtype, np.floating):\n",
    "            try:\n",
    "                ds[\"time\"] = xr.decode_cf(ds).time  # Automatically converts \"hours since X\" format\n",
    "            except Exception:\n",
    "                print(f\"Warning: Could not auto-decode time for {file}\")\n",
    "        \n",
    "        # Ensure time is in datetime64 format\n",
    "        ds[\"time\"] = pd.to_datetime(ds[\"time\"].values)\n",
    "        \n",
    "        # Select the nearest time\n",
    "        ds = ds.sel(time=target_time, method=\"nearest\")\n",
    "\n",
    "        # Extract variables (modify as needed)\n",
    "        temp = ds.get(\"temp\", None)\n",
    "        rel_hum = ds.get(\"rel_hum\", None)\n",
    "        wind_speed = ds.get(\"wind_speed\", None)\n",
    "        wind_dir = ds.get(\"wind_dir\", None)\n",
    "        lat = ds.get(\"lat\", None)\n",
    "        lon = ds.get(\"lon\", None)\n",
    "        alt = ds.get(\"alt\", None)\n",
    "\n",
    "      #  print(f\"Variables in {file}: {list(ds.variables.keys())}\")\n",
    "      #  print(\"Temp is: \", temp.values if temp is not None else \"None\")\n",
    "\n",
    "        # Store extracted data\n",
    "        data_list.append({\n",
    "            \"Station\": station_name,\n",
    "            \"Time\": str(ds.time.values),\n",
    "            \"Temperature\": float(temp.values) if temp is not None else None,\n",
    "            \"RH\": float(rel_hum.values) if pressure is not None else None,\n",
    "            \"Wind Speed\": float(wind_speed.values) if wind_speed is not None else None,\n",
    "            \"Wind Dir\": float(wind_dir.values) if wind_speed is not None else None,\n",
    "            \"Latitude\": float(lat.values) if lat is not None else None,\n",
    "            \"Longitude\": float(lon.values) if lon is not None else None,\n",
    "            \"Altitude\": float(alt.values) if alt is not None else None,\n",
    "            \n",
    "\n",
    "        })\n",
    "        \n",
    "        ds.close()\n",
    "\n",
    "# Convert to Pandas DataFrame for easy comparison\n",
    "df = pd.DataFrame(data_list)\n",
    "\n",
    "# Display the DataFrame\n",
    "print(df)\n",
    "\n",
    "# Optionally, save to CSV\n",
    "df.to_csv(\"weather_comparison.csv\", index=False)\n",
    "\n"
   ]
  },
  {
   "cell_type": "code",
   "execution_count": 2,
   "id": "62da161b-dfda-4fdb-ae1e-09357a7a81fa",
   "metadata": {},
   "outputs": [
    {
     "name": "stdout",
     "output_type": "stream",
     "text": [
      "CSV saved to output_file_test_14032025.csv\n"
     ]
    }
   ],
   "source": []
  },
  {
   "cell_type": "code",
   "execution_count": 35,
   "id": "92b9ee7f-0d17-491c-b5d2-b6831b0dcafb",
   "metadata": {},
   "outputs": [
    {
     "name": "stdout",
     "output_type": "stream",
     "text": [
      "[1 0 1 1 0 0 1 1 0 0 0 1 0 0 1 1 0 0 0 0 1 1 1 0 1 0 1 0 0 0 1 1 0 0 1 1 0\n",
      " 0 1 0 0 0 0 1 0 0 0 0 1 1 0 1 1 0 0 1 1 0 0 1 1 1 1 0 0 0 0 1 1 0 1 1 0 0\n",
      " 0 1 1 1 0 0 0 0 0 0 0 1 0 0 1 1 0 0 0 1]\n"
     ]
    }
   ],
   "source": [
    "import titanlib\n",
    "\n",
    "# Extract the relevant columns\n",
    "latitude = df['Latitude'].values\n",
    "longitude = df['Longitude'].values\n",
    "altitude = df['Altitude'].values\n",
    "temperature = df['Temperature'].values  # Observations (e.g., temperature)\n",
    "\n",
    "# Create TitanLib Points object\n",
    "points = titanlib.Points(latitude, longitude, altitude, temperature)\n",
    "flags = titanlib.metadata_check(\n",
    "    points, True, True, True, True\n",
    ")\n",
    "\n",
    "print(flags)"
   ]
  },
  {
   "cell_type": "code",
   "execution_count": 36,
   "id": "382ffa2f-d5d7-4b02-b692-4c3a32cd0624",
   "metadata": {},
   "outputs": [
    {
     "data": {
      "image/png": "[encoded data removed]",
      "text/plain": [
       "<Figure size 1000x600 with 1 Axes>"
      ]
     },
     "metadata": {},
     "output_type": "display_data"
    }
   ],
   "source": [
    "import matplotlib.pyplot as plt\n",
    "import cartopy.crs as ccrs\n",
    "import cartopy.feature as cfeature\n",
    "import numpy as np\n",
    "\n",
    "# Extract flagged and unflagged indices\n",
    "flagged_indices = np.where(flags != 0)[0]  # Flags that are not 0 (invalid)\n",
    "unflagged_indices = np.where(flags == 0)[0]  # Valid data points\n",
    "\n",
    "# Create a map\n",
    "fig, ax = plt.subplots(figsize=(10, 6), subplot_kw={\"projection\": ccrs.PlateCarree()})\n",
    "\n",
    "# Add map features\n",
    "ax.add_feature(cfeature.BORDERS, linestyle=\":\")\n",
    "ax.add_feature(cfeature.COASTLINE)\n",
    "\n",
    "# Plot valid observations (green)\n",
    "ax.scatter(\n",
    "    longitude[unflagged_indices], latitude[unflagged_indices],\n",
    "    c=\"green\", label=\"Valid Data\", edgecolors=\"black\", transform=ccrs.PlateCarree()\n",
    ")\n",
    "\n",
    "# Plot flagged observations (red)\n",
    "ax.scatter(\n",
    "    longitude[flagged_indices], latitude[flagged_indices],\n",
    "    c=\"red\", label=\"Flagged Data\", edgecolors=\"black\", transform=ccrs.PlateCarree()\n",
    ")\n",
    "\n",
    "# Add title & legend\n",
    "ax.set_title(\"Flagged vs. Valid Weather Observations\")\n",
    "ax.legend()\n",
    "\n",
    "# Show the map\n",
    "plt.show()\n"
   ]
  },
  {
   "cell_type": "code",
   "execution_count": 50,
   "id": "4c94efdb-0828-403b-b2fd-d00e3ad385ee",
   "metadata": {},
   "outputs": [
    {
     "name": "stdout",
     "output_type": "stream",
     "text": [
      "[1 0 1 1 0 0 1 1 0 0 0 1 0 0 1 1 0 0 0 0 1 1 1 0 1 0 1 0 0 0 1 1 0 0 1 1 0\n",
      " 0 1 0 0 0 0 1 0 0 0 0 1 1 0 1 1 0 0 1 1 0 0 1 1 1 1 0 0 0 0 1 1 0 1 1 0 0\n",
      " 0 1 1 1 0 0 0 0 0 0 0 1 0 0 1 1 0 0 0 1]\n"
     ]
    }
   ],
   "source": [
    "##Buddy check:\n",
    "\n",
    "\n",
    "radius = np.full(points.size(), 5000)\n",
    "num_min = np.full(points.size(), 5)\n",
    "threshold = 2\n",
    "max_elev_diff = 200\n",
    "elev_gradient = -0.0065\n",
    "min_std = 1\n",
    "num_iterations = 5\n",
    "\n",
    "# Extract the relevant columns\n",
    "latitude = df['Latitude'].values\n",
    "longitude = df['Longitude'].values\n",
    "altitude = df['Altitude'].values\n",
    "temperature = df['Temperature'].values  # Observations (e.g., temperature)\n",
    "\n",
    "# Create TitanLib Points object\n",
    "points = titanlib.Points(latitude, longitude, altitude, temperature)\n",
    "\n",
    "\n",
    "flags_buddy_check = titanlib.buddy_check(\n",
    "    points,\n",
    "    temperature,\n",
    "    radius,\n",
    "    num_min,\n",
    "    threshold,\n",
    "    max_elev_diff,\n",
    "    elev_gradient,\n",
    "    min_std,\n",
    "    num_iterations,\n",
    ")\n",
    "\n",
    "print(flags_buddy_check)\n"
   ]
  },
  {
   "cell_type": "code",
   "execution_count": 51,
   "id": "d25917f1-f5af-43e0-88a2-a17b29f5697b",
   "metadata": {},
   "outputs": [
    {
     "data": {
      "image/png": "[encoded data removed]",
      "text/plain": [
       "<Figure size 1000x600 with 1 Axes>"
      ]
     },
     "metadata": {},
     "output_type": "display_data"
    }
   ],
   "source": [
    "import matplotlib.pyplot as plt\n",
    "import cartopy.crs as ccrs\n",
    "import cartopy.feature as cfeature\n",
    "import numpy as np\n",
    "\n",
    "# Extract flagged and unflagged indices\n",
    "flagged_indices = np.where(flags_buddy_check != 0)[0]  # Flags that are not 0 (invalid)\n",
    "unflagged_indices = np.where(flags_buddy_check == 0)[0]  # Valid data points\n",
    "\n",
    "# Create a map\n",
    "fig, ax = plt.subplots(figsize=(10, 6), subplot_kw={\"projection\": ccrs.PlateCarree()})\n",
    "\n",
    "# Add map features\n",
    "ax.add_feature(cfeature.BORDERS, linestyle=\":\")\n",
    "ax.add_feature(cfeature.COASTLINE)\n",
    "\n",
    "# Plot valid observations (green)\n",
    "ax.scatter(\n",
    "    longitude[unflagged_indices], latitude[unflagged_indices],\n",
    "    c=\"green\", label=\"Valid Data\", edgecolors=\"black\", transform=ccrs.PlateCarree()\n",
    ")\n",
    "\n",
    "# Plot flagged observations (red)\n",
    "ax.scatter(\n",
    "    longitude[flagged_indices], latitude[flagged_indices],\n",
    "    c=\"red\", label=\"Flagged Data\", edgecolors=\"black\", transform=ccrs.PlateCarree()\n",
    ")\n",
    "\n",
    "# Add title & legend\n",
    "ax.set_title(\"Buddy check\")\n",
    "ax.legend()\n",
    "\n",
    "# Show the map\n",
    "plt.show()\n"
   ]
  },
  {
   "cell_type": "code",
   "execution_count": 64,
   "id": "41cbef28-11d2-43f0-9001-fced478951e4",
   "metadata": {},
   "outputs": [
    {
     "name": "stdout",
     "output_type": "stream",
     "text": [
      "[1 0 1 1 0 0 1 1 0 0 1 1 1 0 1 1 0 1 1 1 1 1 1 1 1 1 1 0 0 0 1 1 0 1 1 1 0\n",
      " 0 1 1 1 0 1 1 0 1 0 0 1 1 1 1 1 1 1 1 1 0 0 1 1 1 1 1 0 1 0 1 1 1 1 1 0 0\n",
      " 1 1 1 1 1 0 0 0 0 1 0 1 0 1 1 1 0 0 0 1]\n"
     ]
    },
    {
     "data": {
      "image/png": "[encoded data removed]",
      "text/plain": [
       "<Figure size 1000x600 with 1 Axes>"
      ]
     },
     "metadata": {},
     "output_type": "display_data"
    }
   ],
   "source": [
    "min = [270]*len(temperature)\n",
    "max = [290]*len(temperature)\n",
    "flags_range_check = titanlib.range_check(\n",
    "    temperature, min, max)\n",
    "\n",
    "print(flags_range_check)\n",
    "\n",
    "import matplotlib.pyplot as plt\n",
    "import cartopy.crs as ccrs\n",
    "import cartopy.feature as cfeature\n",
    "import numpy as np\n",
    "\n",
    "# Extract flagged and unflagged indices\n",
    "flagged_indices = np.where(flags_range_check != 0)[0]  # Flags that are not 0 (invalid)\n",
    "unflagged_indices = np.where(flags_range_check == 0)[0]  # Valid data points\n",
    "\n",
    "# Create a map\n",
    "fig, ax = plt.subplots(figsize=(10, 6), subplot_kw={\"projection\": ccrs.PlateCarree()})\n",
    "\n",
    "# Add map features\n",
    "ax.add_feature(cfeature.BORDERS, linestyle=\":\")\n",
    "ax.add_feature(cfeature.COASTLINE)\n",
    "\n",
    "# Plot valid observations (green)\n",
    "ax.scatter(\n",
    "    longitude[unflagged_indices], latitude[unflagged_indices],\n",
    "    c=\"green\", label=\"Valid Data\", edgecolors=\"black\", transform=ccrs.PlateCarree()\n",
    ")\n",
    "\n",
    "# Plot flagged observations (red)\n",
    "ax.scatter(\n",
    "    longitude[flagged_indices], latitude[flagged_indices],\n",
    "    c=\"red\", label=\"Flagged Data\", edgecolors=\"black\", transform=ccrs.PlateCarree()\n",
    ")\n",
    "\n",
    "# Add title & legend\n",
    "ax.set_title(\"Range check\")\n",
    "ax.legend()\n",
    "\n",
    "# Show the map\n",
    "plt.show()"
   ]
  },
  {
   "cell_type": "code",
   "execution_count": 62,
   "id": "198ddb04-8c74-4be7-b513-1f1f5c8313ba",
   "metadata": {},
   "outputs": [
    {
     "name": "stdout",
     "output_type": "stream",
     "text": [
      "94\n",
      "[ 0  1  2  3  4  5  6  7  8  9 10 11 12 13 14 15 16 17 18 19 20 21 22 23\n",
      " 24 25 26 27 28 29 30 31 32 33 34 35 36 37 38 39 40 41 42 43 44 45 46 47\n",
      " 48 49 50 51 52 53 54 55 56 57 58 59 60 61 62 63 64 65 66 67 68 69 70 71\n",
      " 72 73 74 75 76 77 78 79 80 81 82 83 84 85 86 87 88 89 90 91 92 93]\n",
      "[0, 0, 0, 0, 0, 0, 0, 0, 0, 0, 0, 0, 0, 0, 0, 0, 0, 0, 0, 0, 0, 0, 0, 0, 0, 0, 0, 0, 0, 0, 0, 0, 0, 0, 0, 0, 0, 0, 0, 0, 0, 0, 0, 0, 0, 0, 0, 0, 0, 0, 0, 0, 0, 0, 0, 0, 0, 0, 0, 0, 0, 0, 0, 0, 0, 0, 0, 0, 0, 0, 0, 0, 0, 0, 0, 0, 0, 0, 0, 0, 0, 0, 0, 0, 0, 0, 0, 0, 0, 0, 0, 0, 0, 0]\n"
     ]
    }
   ],
   "source": [
    "print(len(temperature))\n",
    "print(np.arange(0,94,1))\n",
    "\n",
    "hi=[0]*len(temperature)\n",
    "print(hi)"
   ]
  },
  {
   "cell_type": "code",
   "execution_count": 10,
   "id": "10cf889e-0c71-4634-ba77-496d2101e5f0",
   "metadata": {},
   "outputs": [
    {
     "name": "stdout",
     "output_type": "stream",
     "text": [
      "Selected Time: 2022-01-13T17:00:00.000000000\n",
      "Temperature: None\n"
     ]
    }
   ],
   "source": [
    "import xarray as xr\n",
    "\n",
    "# Load the NetCDF file\n",
    "file_path = \"nebelhorn/nebelhorn-pit_405.nc\"  # Update with the correct path\n",
    "ds = xr.open_dataset(file_path)\n",
    "\n",
    "# Convert time to datetime format\n",
    "ds[\"time\"] = xr.decode_cf(ds)[\"time\"]\n",
    "\n",
    "# Target time\n",
    "target_time = \"2022-01-13T17:00:00\"\n",
    "\n",
    "# Select the nearest available time\n",
    "\n",
    "ds_selected = ds.sel(time=target_time, method=\"nearest\")\n",
    "\n",
    "# Extract temperature if available\n",
    "temperature = ds_selected.get(\"temperature\", None)\n",
    "\n",
    "# Get actual selected time and temperature value\n",
    "selected_time = ds_selected.time.values\n",
    "temperature_value = float(temperature.values) if temperature is not None else None\n",
    "\n",
    "print(f\"Selected Time: {selected_time}\")\n",
    "print(f\"Temperature: {temperature_value}\")\n"
   ]
  },
  {
   "cell_type": "code",
   "execution_count": 15,
   "id": "d20348f3-58f4-415f-b924-b7da9e518220",
   "metadata": {},
   "outputs": [
    {
     "name": "stdout",
     "output_type": "stream",
     "text": [
      "[ True False  True  True False  True  True  True False False False False\n",
      "  True  True False  True False False  True False  True  True  True False\n",
      "  True False False False False False  True False False False False  True\n",
      " False False  True False False  True  True False False False  True False\n",
      " False False  True False False False False False False False False False\n",
      " False False  True False False  True False False  True False  True  True\n",
      " False False  True False False  True  True False False False False  True\n",
      " False  True False False  True False False False False  True]\n",
      "(94, 7)\n"
     ]
    }
   ],
   "source": [
    "print(flags == 1)  # Check the boolean array generated by flags == 1\n",
    "print(df.shape)    # Check the shape of the DataFrame\n",
    "\n"
   ]
  },
  {
   "cell_type": "code",
   "execution_count": null,
   "id": "46e39ecc-6a43-4abc-8e60-ceecd71ade09",
   "metadata": {},
   "outputs": [],
   "source": [
    "print(df.columns.tolist())\n",
    "print(df.head())\n",
    "print(np.isnan(flags).any())\n",
    "\n"
   ]
  },
  {
   "cell_type": "code",
   "execution_count": 1,
   "id": "b6ea5663-a930-475c-a908-abc4e7dbdeaf",
   "metadata": {},
   "outputs": [
    {
     "name": "stdout",
     "output_type": "stream",
     "text": [
      "   A  B\n",
      "0  1  4\n",
      "2  3  6\n"
     ]
    }
   ],
   "source": [
    "import pandas as pd\n",
    "import numpy as np\n",
    "\n",
    "# Minimal DataFrame\n",
    "df = pd.DataFrame({\n",
    "    'A': [1, 2, 3],\n",
    "    'B': [4, 5, 6]\n",
    "})\n",
    "\n",
    "# Minimal flags array\n",
    "flags = np.array([1, 0, 1])\n",
    "\n",
    "# Attempt filtering\n",
    "filtered_df = df[flags == 1]\n",
    "print(filtered_df)\n"
   ]
  },
  {
   "cell_type": "code",
   "execution_count": null,
   "id": "21fbd4b2-2a31-4b2e-a19a-642d868da244",
   "metadata": {},
   "outputs": [],
   "source": [
    "# Define winter months again (Northern Hemisphere: December, January, February)\n",
    "winter_months = [12, 1, 2]\n",
    "\n",
    "# Define a function to find the first available winter daytime timestamp\n",
    "def get_winter_daytime_timestamp(time_values):\n",
    "    # Convert to pandas datetime\n",
    "    time_values = pd.to_datetime(time_values)\n",
    "    # Filter for winter months and daytime hours (12:00 - 15:00)\n",
    "    winter_times = [t for t in time_values if t.month in winter_months and 12 <= t.hour <= 15]\n",
    "    # Return the first available timestamp if any exist\n",
    "    return winter_times[0] if winter_times else None\n",
    "\n",
    "# List to store extracted data\n",
    "data_list = []\n",
    "\n",
    "# Loop through all NetCDF files in the folder\n",
    "for file in os.listdir(folder_path):\n",
    "    if file.endswith(\".nc\"):\n",
    "        file_path = os.path.join(folder_path, file)\n",
    "        \n",
    "        # Open the NetCDF file\n",
    "        ds = xr.open_dataset(file_path)\n",
    "        \n",
    "        # Extract station name (assuming it's in the filename)\n",
    "        station_name = file.split(\".nc\")[0]\n",
    "        \n",
    "        # Find the first available winter daytime timestamp\n",
    "        selected_time = get_winter_daytime_timestamp(ds[\"time\"].values)\n",
    "        \n",
    "        if selected_time:\n",
    "            # Select the nearest available time\n",
    "            ds_sel = ds.sel(time=selected_time, method=\"nearest\")\n",
    "\n",
    "            # Extract relevant variables\n",
    "            temp = ds_sel[\"temp\"].values.item() if \"temp\" in ds_sel else None\n",
    "            rel_hum = ds_sel[\"rel_hum\"].values.item() if \"rel_hum\" in ds_sel else None\n",
    "            lon = ds_sel[\"lon\"].values.item() if \"lon\" in ds_sel else None\n",
    "            lat = ds_sel[\"lat\"].values.item() if \"lat\" in ds_sel else None\n",
    "            alt = ds_sel[\"alt\"].values.item() if \"alt\" in ds_sel else None\n",
    "\n",
    "            # Append to list\n",
    "            data_list.append({\n",
    "                \"Station\": station_name,\n",
    "                \"Time\": str(ds_sel.time.values),\n",
    "                \"Temperature\": temp,\n",
    "                \"Relative Humidity\": rel_hum,\n",
    "                \"Longitude\": lon,\n",
    "                \"Latitude\": lat,\n",
    "                \"Altitude\": alt,\n",
    "            })\n",
    "\n",
    "        # Close dataset\n",
    "        ds.close()\n",
    "\n",
    "# Convert to Pandas DataFrame for easy comparison\n",
    "df = pd.DataFrame(data_list)\n",
    "\n",
    "\n",
    "# Display DataFrame\n",
    "df.head()\n",
    "\n",
    "\n",
    "# Select the relevant columns for saving\n",
    "df_to_save = df[[\"Longitude\", \"Latitude\", \"Altitude\", \"Temperature\"]]  # or \"Relative Humidity\" instead of \"Temperature\"\n",
    "\n",
    "# Save to CSV with semicolon delimiter\n",
    "output_csv_path = \"output_file_test_14032025.csv\"  # specify the output file path\n",
    "df_to_save.to_csv(output_csv_path, sep=\";\", index=False)\n",
    "\n",
    "print(f\"CSV saved to {output_csv_path}\")\n",
    "\n"
   ]
  }
 ],
 "metadata": {
  "kernelspec": {
   "display_name": "Python 3 (ipykernel)",
   "language": "python",
   "name": "python3"
  },
  "language_info": {
   "codemirror_mode": {
    "name": "ipython",
    "version": 3
   },
   "file_extension": ".py",
   "mimetype": "text/x-python",
   "name": "python",
   "nbconvert_exporter": "python",
   "pygments_lexer": "ipython3",
   "version": "3.9.21"
  }
 },
 "nbformat": 4,
 "nbformat_minor": 5
}
