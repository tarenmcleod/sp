{
 "cells": [
  {
   "cell_type": "markdown",
   "id": "6855a8bb-df4b-4004-8f3f-2b6a8a2d8a3f",
   "metadata": {},
   "source": [
    "# Titanlib min working example"
   ]
  },
  {
   "cell_type": "markdown",
   "id": "c14dd800-a83b-4939-ad12-0616186814ec",
   "metadata": {},
   "source": [
    "### Table of Contents  \n",
    "\n",
    "- [How to make a titanlib point](#How-to-make-a-titanlib-point)\n",
    "- [How to make a dataset](#How-to-make-a-dataset)\n",
    "- [Buddy check](#Buddy-check)\n",
    "- [Buddy event check](#Buddy-event-check)\n",
    "- [Climatology range check](#Climatology-range-check)\n",
    "- [First guess test](#First-guess-test)\n",
    "- [Isolation check](#Isolation-check)\n",
    "- [Metadata check](#Metadata-check)\n",
    "- [Range check](#Range-check)\n",
    "- [Spatial consistency test](#Spatial-consistency-test)\n",
    "- [Spatial consistency test resistant](#Spatial-consistency-test-resistant)\n",
    "- [Spatial consistency test dual](#Spatial-consistency-test-dual)\n",
    "\n",
    "\n"
   ]
  },
  {
   "cell_type": "markdown",
   "id": "73eef244-7439-4a8b-bb35-a8df96cc1b48",
   "metadata": {},
   "source": [
    "## How to make a titanlib point"
   ]
  },
  {
   "cell_type": "code",
   "execution_count": 1,
   "id": "63c2ff2c-181e-4c10-b8f5-67fd558ef3a6",
   "metadata": {},
   "outputs": [],
   "source": [
    "import titanlib\n",
    "import xarray as xr\n",
    "import pandas as pd\n",
    "import os\n",
    "import numpy as np\n",
    "\n",
    "lats = [57.2, 57.21, 50.5, 11.2]\n",
    "lons =  [10.3, 10.31, 13.2, 29.5]\n",
    "elevs = [50, 51, 912, 31]\n",
    "observations = [20, 30, 18, 25]\n",
    "points = titanlib.Points(lats, lons, elevs)\n",
    "flags = titanlib.metadata_check(\n",
    "    points, True, True, True, True\n",
    ")\n"
   ]
  },
  {
   "cell_type": "markdown",
   "id": "17b0567f-5128-497b-a9f1-637a9fb2b845",
   "metadata": {},
   "source": [
    "## How to make a dataset\n",
    "\n",
    "This is a way that titanlib manages multiple checks preverving the flags."
   ]
  },
  {
   "cell_type": "code",
   "execution_count": 2,
   "id": "8059f5d9-58ec-4ce5-8d3d-3d6bcf6dbe8c",
   "metadata": {},
   "outputs": [
    {
     "name": "stdout",
     "output_type": "stream",
     "text": [
      "[0 0 0 1]\n"
     ]
    }
   ],
   "source": [
    "dataset = titanlib.Dataset(points, observations)\n",
    "\n",
    "tmin = [-20,-20,-20,-20]\n",
    "tmax = [30,30,30,30]\n",
    "radius = 1500000 # m\n",
    "nb_neigh = 1\n",
    "\n",
    "\n",
    "dataset.range_check(tmin, tmax)\n",
    "dataset.isolation_check(nb_neigh, radius)\n",
    "print(dataset.get_flags())\n"
   ]
  },
  {
   "cell_type": "markdown",
   "id": "9a66dfd0-b6dd-4873-8522-2ea40bb1b27b",
   "metadata": {},
   "source": [
    "## Buddy check"
   ]
  },
  {
   "cell_type": "code",
   "execution_count": 3,
   "id": "8fc4320c-6bf1-4bf7-a8b2-35a8c3d26e16",
   "metadata": {},
   "outputs": [
    {
     "name": "stdout",
     "output_type": "stream",
     "text": [
      "[1 1 0 0]\n"
     ]
    }
   ],
   "source": [
    "#Buddy check \n",
    "\n",
    "radius = np.full(points.size(), 5000)\n",
    "num_min = np.full(points.size(), 1)\n",
    "threshold = 2\n",
    "max_elev_diff = 200\n",
    "elev_gradient = -0.0065\n",
    "min_std = 1\n",
    "num_iterations = 5\n",
    "\n",
    "flags = titanlib.buddy_check(\n",
    "    points,\n",
    "    observations,\n",
    "    radius,\n",
    "    num_min,\n",
    "    threshold,\n",
    "    max_elev_diff,\n",
    "    elev_gradient,\n",
    "    min_std,\n",
    "    num_iterations,\n",
    ")\n",
    "\n",
    "print(flags)"
   ]
  },
  {
   "cell_type": "markdown",
   "id": "be3027e1-aee5-489f-a97c-04cb97d060be",
   "metadata": {},
   "source": [
    "## Buddy event check  "
   ]
  },
  {
   "cell_type": "code",
   "execution_count": 4,
   "id": "1a166346-72ac-4dd2-84f9-167121bf2c6c",
   "metadata": {},
   "outputs": [
    {
     "name": "stdout",
     "output_type": "stream",
     "text": [
      "[1 1 0 0]\n"
     ]
    }
   ],
   "source": [
    "#Buddy event check\n",
    "\n",
    "precip_obs = [5, 0.1, 2, 0]\n",
    "radius = np.full(points.size(), 5000)\n",
    "num_min = np.full(points.size(), 1)\n",
    "event_threshold = 0.2\n",
    "threshold = 0.25\n",
    "max_elev_diff = 10\n",
    "elev_gradient = 0\n",
    "num_iterations = 5\n",
    "flags = titanlib.buddy_event_check(points, precip_obs, radius, num_min,\n",
    "            event_threshold, threshold, max_elev_diff, elev_gradient, num_iterations)\n",
    "\n",
    "print(flags)"
   ]
  },
  {
   "cell_type": "markdown",
   "id": "7aa4b2b3-fc55-4d5f-982d-ceb728a1e3c3",
   "metadata": {},
   "source": [
    "## Climatology range check  "
   ]
  },
  {
   "cell_type": "code",
   "execution_count": 5,
   "id": "167966f3-bf86-438d-a3ea-6a690f851003",
   "metadata": {},
   "outputs": [
    {
     "name": "stdout",
     "output_type": "stream",
     "text": [
      "[0 1 0 0]\n"
     ]
    }
   ],
   "source": [
    "#Range check climatology\n",
    "target_time = pd.to_datetime(\"2022-01-22T12:00:00\")\n",
    "\n",
    "\n",
    "unixtime = int(target_time.timestamp()) #need this as input for climatology \n",
    "tpos = np.full(points.size(), 30)\n",
    "tneg = np.full(points.size(), -20)\n",
    "\n",
    "flags = titanlib.range_check_climatology(points, observations, unixtime, tpos, tneg)\n",
    "print(flags)"
   ]
  },
  {
   "cell_type": "markdown",
   "id": "5c5c3362-8f89-49ef-91cb-9daf6ac72479",
   "metadata": {},
   "source": [
    "## Isolation check"
   ]
  },
  {
   "cell_type": "code",
   "execution_count": 6,
   "id": "485d93e1-37eb-4ed0-be10-c9bc74ac2867",
   "metadata": {},
   "outputs": [
    {
     "name": "stdout",
     "output_type": "stream",
     "text": [
      "[0 0 1 1]\n"
     ]
    }
   ],
   "source": [
    "nb_neigh = 1\n",
    "radius = 2000 #m\n",
    "\n",
    "flags = titanlib.isolation_check(points, nb_neigh, radius)\n",
    "print(flags)"
   ]
  },
  {
   "cell_type": "markdown",
   "id": "00f87c2d-5eea-44e7-8b13-192ca4ab9932",
   "metadata": {},
   "source": [
    "## Metadata check"
   ]
  },
  {
   "cell_type": "code",
   "execution_count": 7,
   "id": "1170ffa9-8c45-4d29-854e-0bd2c6e6877d",
   "metadata": {},
   "outputs": [
    {
     "name": "stdout",
     "output_type": "stream",
     "text": [
      "[1 1 1 1]\n"
     ]
    }
   ],
   "source": [
    "flags = titanlib.metadata_check(points, True, True, True, True)\n",
    "print(flags)"
   ]
  },
  {
   "cell_type": "markdown",
   "id": "68b2e619-e7c2-490f-aa43-4049a33c372d",
   "metadata": {},
   "source": [
    "## Range check"
   ]
  },
  {
   "cell_type": "code",
   "execution_count": 8,
   "id": "c8c9d7d4-4dd5-42ab-b371-0833bbf0b14d",
   "metadata": {},
   "outputs": [
    {
     "name": "stdout",
     "output_type": "stream",
     "text": [
      "[0 0 0 0]\n"
     ]
    }
   ],
   "source": [
    "tmin = [-20,-20,-20,-20]\n",
    "tmax = [30,30,30,30]\n",
    "\n",
    "flags = titanlib.range_check(observations, tmin, tmax)\n",
    "print(flags)\n",
    "\n"
   ]
  },
  {
   "cell_type": "markdown",
   "id": "d9dbc114-a5a8-46b5-af86-27a686b35a95",
   "metadata": {},
   "source": [
    "## Spatial consistency test "
   ]
  },
  {
   "cell_type": "code",
   "execution_count": 12,
   "id": "f6e8f234-4e53-4825-819f-1e1009d2ae25",
   "metadata": {},
   "outputs": [
    {
     "name": "stdout",
     "output_type": "stream",
     "text": [
      "[0 0 0 1]\n",
      "The history saving thread hit an unexpected error (OperationalError('attempt to write a readonly database')).History will not be written to the database.\n"
     ]
    }
   ],
   "source": [
    "\n",
    "pos = np.full(points.size(), 4)\n",
    "neg = np.full(points.size(), 8)\n",
    "eps2 = np.full(points.size(), 0.5)\n",
    "\n",
    "dataset.sct(\n",
    "    5,      # num_min\n",
    "    100,    # num_max\n",
    "    50000,  # inner_radius\n",
    "    150000, # outer_radius\n",
    "    1,      # num_iterations\n",
    "    20,     # num_min_prof\n",
    "    200,    # min_elev_diff\n",
    "    10000,  # min_horizonal_scale\n",
    "    200,    # vertical_scale\n",
    "    pos,\n",
    "    neg,\n",
    "    eps2)\n",
    "\n",
    "print(dataset.get_flags())"
   ]
  },
  {
   "cell_type": "code",
   "execution_count": 11,
   "id": "498eae61-c99d-45dc-bee0-f500a549fbb9",
   "metadata": {},
   "outputs": [
    {
     "name": "stdout",
     "output_type": "stream",
     "text": [
      "[0 0 0 0]\n",
      "[0. 0. 0. 0.]\n",
      "[0. 0. 0. 0.]\n"
     ]
    }
   ],
   "source": [
    "## Spatial consistency test - Returned parameters Quality control flag (0=OK, 1=bad), \n",
    "# prob_gross_error\tvec\t\tProbability of gross error for each observation\n",
    "# rep\tvec\t\tCoefficient of representativity\n",
    "\n",
    "pos = np.full(points.size(), 4)\n",
    "neg = np.full(points.size(), 8)\n",
    "eps2 = np.full(points.size(), 0.5)\n",
    "\n",
    "flags, prob, rep = titanlib.sct(points,\n",
    "    observations,\n",
    "    5,      # num_min\n",
    "    100,    # num_max\n",
    "    50000,  # inner_radius\n",
    "    150000, # outer_radius\n",
    "    5,      # num_iterations\n",
    "    20,     # num_min_prof\n",
    "    200,    # min_elev_diff\n",
    "    10000,  # min_horizonal_scale\n",
    "    200,    # vertical_scale\n",
    "    pos,\n",
    "    neg,\n",
    "    eps2)\n",
    "\n",
    "print(flags)\n",
    "print(prob)\n",
    "print(rep)"
   ]
  },
  {
   "cell_type": "markdown",
   "id": "63373cbd-053d-4053-8d4e-1009017af17a",
   "metadata": {},
   "source": [
    "## Spatial consistency test resistant"
   ]
  },
  {
   "cell_type": "code",
   "execution_count": 40,
   "id": "8036de75-58c8-4eba-bb2a-506457092f6c",
   "metadata": {},
   "outputs": [
    {
     "name": "stdout",
     "output_type": "stream",
     "text": [
      "mean t: -7.94667\n",
      "mean t: -3.03333\n",
      "mean t: 28.88\n",
      "mean t: -7.94667\n",
      "mean t: -7.954\n",
      "mean t: -3.03333\n",
      "mean t: 28.88\n",
      "mean t: -7.94667\n",
      "mean t: -7.954\n",
      "mean t: -3.03333\n",
      "mean t: 28.88\n",
      "mean t: -7.94667\n",
      "mean t: -7.954\n",
      "mean t: -3.03333\n",
      "mean t: 28.88\n",
      "=============================================== 4\n",
      "Number of observations to test is 4\n",
      "Min and max acceptable values are -20 20\n",
      "g lats lons elevs obs:\n",
      "0 57.2 10.3 50 20\n",
      "1 57.21 10.31 51 30\n",
      "2 50.5 13.2 912 18\n",
      "3 11.2 29.5 31 25\n",
      " +++++ Iteration 0 ++++++++++++++++\n",
      "===> curr 0 ===============\n",
      "p_dist  2\n",
      "p_outer inner test 2 2 2\n",
      "@@isolated (outer) 0\n",
      "===> curr 1 ===============\n",
      "p_dist  2\n",
      "p_outer inner test 2 2 2\n",
      "@@isolated (outer) 1\n",
      "===> curr 2 ===============\n",
      "p_dist  1\n",
      "p_outer inner test 1 1 1\n",
      "@@isolated (outer) 2\n",
      "===> curr 3 ===============\n",
      "p_dist  1\n",
      "p_outer inner test 1 1 1\n",
      "@@isolated (outer) 3\n",
      "SCT loop - Removing 0 observations. Number of OI 0 time=2.38419e-05 secs\n",
      "Stopping early after 1 iterations\n",
      "Remaining 0 observations set to \"good\" \n",
      " +++++ check on observations missing QC flags ++++++++++++++++\n",
      "===> curr 0 ===============\n",
      "..skip 0\n",
      "===> curr 1 ===============\n",
      "..skip 1\n",
      "===> curr 2 ===============\n",
      "..skip 2\n",
      "===> curr 3 ===============\n",
      "..skip 3\n",
      "QC missing - Removing 0 observations. Number of OI 0 time=5.96046e-06 secs\n",
      " +++++ final check on the bad observations ++++++++++++++++\n",
      "===> curr 0 ===============\n",
      "..skip 0\n",
      "===> curr 1 ===============\n",
      "..skip 1\n",
      "===> curr 2 ============\n",
      "..skip 2\n",
      "===> curr 3 ===============\n",
      "..skip 3\n",
      "Re-check bad obs - Removing 0 observations. Number of OI 0time = 5.96046e-06 secs\n",
      "summary - # TOT good bad missing isolated(inner) isolated(outer): 4 0 0 0 0 4\n",
      ">> Total Time 0.000152secs\n"
     ]
    }
   ],
   "source": [
    "## Spatial consistency test Resistant\n",
    "\n",
    "pos = np.full(points.size(), 4)\n",
    "neg = np.full(points.size(), 8)\n",
    "eps2 = np.full(points.size(), 0.5)\n",
    "\n",
    "obs_to_check = np.full(points.size(), 1)\n",
    "background_values = np.full(points.size(), 0)\n",
    "background_elab_type = titanlib.MedianOuterCircle\n",
    "num_min_outer = 3\n",
    "num_max_outer = 10\n",
    "inner_radius = 20000\n",
    "outer_radius = 50000\n",
    "num_iterations = 10\n",
    "num_min_prof = 1\n",
    "min_elev_diff = 100\n",
    "min_horizontal_scale = 250 \n",
    "max_horizontal_scale = 100000\n",
    "kth_closest_obs_horizontal_scale = 2\n",
    "vertical_scale = 200\n",
    "tpos = np.full(points.size(), 16)\n",
    "tneg = np.full(points.size(), 16)\n",
    "eps2 = np.full(points.size(), 0.5)\n",
    "values_mina = np.full(points.size(), -20)\n",
    "values_maxa = np.full(points.size(), 20)\n",
    "values_minv = np.full(points.size(), 0)\n",
    "values_maxv = np.full(points.size(), 10)\n",
    "debug = True\n",
    "basic = True\n",
    "\n",
    "\n",
    "flags, scores = titanlib.sct_resistant( points, observations, obs_to_check, background_values, \n",
    "                      background_elab_type, num_min_outer, num_max_outer, \n",
    "                      inner_radius, outer_radius, num_iterations, num_min_prof, \n",
    "                      min_elev_diff, min_horizontal_scale, max_horizontal_scale, \n",
    "                      kth_closest_obs_horizontal_scale, vertical_scale, \n",
    "                      values_mina, values_maxa, values_minv, values_maxv, \n",
    "                      eps2, tpos, tneg, debug, basic)\n"
   ]
  },
  {
   "cell_type": "markdown",
   "id": "572231e2-eeb9-470a-a072-605ede08d7e4",
   "metadata": {},
   "source": [
    "## First guess test"
   ]
  },
  {
   "cell_type": "code",
   "execution_count": 41,
   "id": "00ddb60e-f2d9-4924-8ba9-8b0059cf0905",
   "metadata": {},
   "outputs": [
    {
     "name": "stdout",
     "output_type": "stream",
     "text": [
      "[array([0, 0, 0], dtype=int32), array([-999., -999., -999.], dtype=float32)]\n",
      "=============================================== 3\n",
      "Number of observations to test is 3\n",
      "Min and max acceptable values are -11.5 30\n",
      "g lats lons obs:\n",
      "0 64.4 10.1 8.5\n",
      "1 64.5 10.1 9\n",
      "2 64.6 10.1 10\n",
      " +++++ Iteration 0 ++++++++++++++++\n",
      "===> curr 0 ===============\n",
      "p_dist  3\n",
      "p_outer inner test 3 2 2\n",
      "curr lats lons obs:\n",
      "0 64.4 10.1 8.5\n",
      "indices_global_outer - i g lats lons obs:\n",
      "0 0 64.4 10.1 8.5 -999\n",
      "1 1 64.5 10.1 9 -999\n",
      "2 2 64.6 10.1 10 -999\n",
      "outer - i lats lons obs:\n",
      "0 64.4 10.1 8.5 -999\n",
      "1 64.5 10.1 9 -999\n",
      "2 64.6 10.1 10 -999\n",
      "indices_outer_inner - l i lats lons obs:\n",
      "0 0 64.4 10.1 8.5 -999\n",
      "1 1 64.5 10.1 9 -999\n",
      "indices_outer_test - l m lats lons obs:\n",
      "0 0 64.4 10.1 8.5 -999\n",
      "1 1 64.5 10.1 9 -999\n",
      "indices_inner_test - l m lats lons obs:\n",
      "0 0 64.4 10.1 8.5 -999\n",
      "1 1 64.5 10.1 9 -999\n",
      "... background ok ...\n",
      " small_innov - index 0\n",
      " small_innov - index 1\n",
      "===> curr 1 ===============\n",
      "..observation not suitable as a centroid 1\n",
      "===> curr 2 ===============\n",
      "p_dist  3\n",
      "p_outer inner test 3 2 1\n",
      "curr lats lons obs:\n",
      "2 64.6 10.1 10\n",
      "indices_global_outer - i g lats lons obs:\n",
      "0 0 64.4 10.1 8.5 0\n",
      "1 1 64.5 10.1 9 0\n",
      "2 2 64.6 10.1 10 -999\n",
      "outer - i lats lons obs:\n",
      "0 64.4 10.1 8.5 0\n",
      "1 64.5 10.1 9 0\n",
      "2 64.6 10.1 10 -999\n",
      "indices_outer_inner - l i lats lons obs:\n",
      "0 1 64.5 10.1 9 0\n",
      "1 2 64.6 10.1 10 -999\n",
      "indices_outer_test - l m lats lons obs:\n",
      "0 2 64.6 10.1 10 -999\n",
      "indices_inner_test - l m lats lons obs:\n",
      "0 1 64.6 10.1 10 -999\n",
      "... background ok ...\n",
      " small_innov - index 2\n",
      "FGT loop - Removing 0 observations. Number of tests 0\n",
      "0.000123024 secs\n",
      "Stopping early after 1 iterations\n",
      "Remaining 0 observations set to \"good\" \n",
      " +++++ check on observations missing QC flags ++++++++++++++++\n",
      "===> curr 0 ===============\n",
      "..skip 0\n",
      "===> curr 1 ===============\n",
      "..skip 1\n",
      "===> curr 2 ===============\n",
      "..skip 2\n",
      "QC missing - Removing 0 observations. Number of tests 0\n",
      "6.91414e-06 secs\n",
      " +++++ final check on the bad observations ++++++++++++++++\n",
      "===> curr 0 ===============\n",
      "..skip 0\n",
      "===> curr 1 ===============\n",
      "..skip 1\n",
      "===> curr 2 ===============\n",
      "..skip 2\n",
      "Re-check bad obs - Removing 0 observations. Number of tests0\n",
      "7.86781e-06 secs\n",
      "summary - # TOT good bad missing isolated(inner) isolated(outer): 3 3 0 0 0 0\n",
      ">> Total Time 0.000252secs\n"
     ]
    }
   ],
   "source": [
    "\n",
    "lats = np.array([64.4, 64.5, 64.6])\n",
    "lons = np.array([10.1, 10.1, 10.1])\n",
    "elev = [200.5, 200, 220]\n",
    "temp_obs = np.array([8.5, 9, 10])\n",
    "points = titanlib.Points(lats, lons, elev)\n",
    "N = len(lats)\n",
    "obs_to_check = np.ones(N)\n",
    "background_values = np.zeros(N)\n",
    "background_uncertainties = np.ones(N)\n",
    "background_elab_type = titanlib.MedianOuterCircle\n",
    "num_min_outer = 3\n",
    "num_max_outer = 10\n",
    "inner_radius = 20000\n",
    "outer_radius = 50000\n",
    "num_iterations = 10\n",
    "num_min_prof = 0\n",
    "min_elev_diff = 100\n",
    "min_horizontal_scale = 250\n",
    "max_horizontal_scale = 100000\n",
    "kth_closest_obs_horizontal_scale = 2\n",
    "tpos = np.ones(N) * 5\n",
    "tneg = np.ones(N) * 5\n",
    "values_mina = temp_obs - 20\n",
    "values_maxa = temp_obs + 20\n",
    "values_minv = temp_obs - 1\n",
    "values_maxv = temp_obs + 1\n",
    "debug = True\n",
    "basic = True\n",
    "res = titanlib.fgt(points, temp_obs, obs_to_check,\n",
    "    background_values, \n",
    "    background_uncertainties, \n",
    "    background_elab_type, \n",
    "    num_min_outer, \n",
    "    num_max_outer, \n",
    "    inner_radius, \n",
    "    outer_radius, \n",
    "    num_iterations, \n",
    "    num_min_prof, \n",
    "    min_elev_diff, \n",
    "    values_mina, \n",
    "    values_maxa, \n",
    "    values_minv, \n",
    "    values_maxv, \n",
    "    tpos, \n",
    "    tneg, \n",
    "    debug, \n",
    "    basic   \n",
    ")\n",
    "\n",
    "print(res)"
   ]
  },
  {
   "cell_type": "markdown",
   "id": "ca89fa6a-3003-4b5c-bf14-cf8fdbdd6ff5",
   "metadata": {},
   "source": [
    "## Spatial consistency test dual"
   ]
  },
  {
   "cell_type": "markdown",
   "id": "d252f62b-0f4c-44ba-bbd6-e58740f26caf",
   "metadata": {},
   "source": [
    "<div class=\"alert alert-danger\"> \n",
    "I haven't gotten this next bit working"
   ]
  },
  {
   "cell_type": "code",
   "execution_count": 42,
   "id": "638fdaa0-dd17-4ff1-a859-fca1ec59ec43",
   "metadata": {},
   "outputs": [
    {
     "ename": "TypeError",
     "evalue": "Could not convert input to 1D array of type 'float'",
     "output_type": "error",
     "traceback": [
      "\u001b[0;31m---------------------------------------------------------------------------\u001b[0m",
      "\u001b[0;31mTypeError\u001b[0m                                 Traceback (most recent call last)",
      "Cell \u001b[0;32mIn[42], line 19\u001b[0m\n\u001b[1;32m     17\u001b[0m vertical_scale \u001b[38;5;241m=\u001b[39m \u001b[38;5;241m200\u001b[39m\n\u001b[1;32m     18\u001b[0m debug \u001b[38;5;241m=\u001b[39m \u001b[38;5;28;01mTrue\u001b[39;00m\n\u001b[0;32m---> 19\u001b[0m \u001b[43mtitanlib\u001b[49m\u001b[38;5;241;43m.\u001b[39;49m\u001b[43msct_dual\u001b[49m\u001b[43m(\u001b[49m\u001b[43mpoints\u001b[49m\u001b[43m,\u001b[49m\u001b[43m \u001b[49m\u001b[43mtemp_obs\u001b[49m\u001b[43m,\u001b[49m\u001b[43m \u001b[49m\u001b[43mobs_to_check\u001b[49m\u001b[43m,\u001b[49m\u001b[43m \u001b[49m\u001b[43mevent_thresholds\u001b[49m\u001b[43m,\u001b[49m\u001b[43m \u001b[49m\u001b[43mcondition\u001b[49m\u001b[43m,\u001b[49m\n\u001b[1;32m     20\u001b[0m \u001b[43m                 \u001b[49m\u001b[43mnum_min_outer\u001b[49m\u001b[43m,\u001b[49m\u001b[43m \u001b[49m\u001b[43mnum_max_outer\u001b[49m\u001b[43m,\u001b[49m\u001b[43m \u001b[49m\u001b[43minner_radius\u001b[49m\u001b[43m,\u001b[49m\u001b[43m \u001b[49m\u001b[43mouter_radius\u001b[49m\u001b[43m,\u001b[49m\n\u001b[1;32m     21\u001b[0m \u001b[43m                 \u001b[49m\u001b[43mnum_iterations\u001b[49m\u001b[43m,\u001b[49m\u001b[43m \u001b[49m\u001b[43mmin_horizontal_scale\u001b[49m\u001b[43m,\u001b[49m\u001b[43m \u001b[49m\u001b[43mmax_horizontal_scale\u001b[49m\u001b[43m,\u001b[49m\n\u001b[1;32m     22\u001b[0m \u001b[43m                 \u001b[49m\u001b[43mkth_closest_obs_horizontal_scale\u001b[49m\u001b[43m,\u001b[49m\u001b[43m \u001b[49m\u001b[43mvertical_scale\u001b[49m\u001b[43m,\u001b[49m\n\u001b[1;32m     23\u001b[0m \u001b[43m                 \u001b[49m\u001b[43mtest_thresholds\u001b[49m\u001b[43m,\u001b[49m\u001b[43m \u001b[49m\u001b[43mdebug\u001b[49m\u001b[43m)\u001b[49m\n",
      "File \u001b[0;32m~/miniconda3/envs/titanlib-env/lib/python3.9/site-packages/titanlib.py:889\u001b[0m, in \u001b[0;36msct_dual\u001b[0;34m(points, values, obs_to_check, event_thresholds, condition, num_min_outer, num_max_outer, inner_radius, outer_radius, num_iterations, min_horizontal_scale, max_horizontal_scale, kth_closest_obs_horizontal_scale, vertical_scale, test_thresholds, debug)\u001b[0m\n\u001b[1;32m    888\u001b[0m \u001b[38;5;28;01mdef\u001b[39;00m\u001b[38;5;250m \u001b[39m\u001b[38;5;21msct_dual\u001b[39m(points, values, obs_to_check, event_thresholds, condition, num_min_outer, num_max_outer, inner_radius, outer_radius, num_iterations, min_horizontal_scale, max_horizontal_scale, kth_closest_obs_horizontal_scale, vertical_scale, test_thresholds, debug):\n\u001b[0;32m--> 889\u001b[0m     \u001b[38;5;28;01mreturn\u001b[39;00m \u001b[43m_titanlib\u001b[49m\u001b[38;5;241;43m.\u001b[39;49m\u001b[43msct_dual\u001b[49m\u001b[43m(\u001b[49m\u001b[43mpoints\u001b[49m\u001b[43m,\u001b[49m\u001b[43m \u001b[49m\u001b[43mvalues\u001b[49m\u001b[43m,\u001b[49m\u001b[43m \u001b[49m\u001b[43mobs_to_check\u001b[49m\u001b[43m,\u001b[49m\u001b[43m \u001b[49m\u001b[43mevent_thresholds\u001b[49m\u001b[43m,\u001b[49m\u001b[43m \u001b[49m\u001b[43mcondition\u001b[49m\u001b[43m,\u001b[49m\u001b[43m \u001b[49m\u001b[43mnum_min_outer\u001b[49m\u001b[43m,\u001b[49m\u001b[43m \u001b[49m\u001b[43mnum_max_outer\u001b[49m\u001b[43m,\u001b[49m\u001b[43m \u001b[49m\u001b[43minner_radius\u001b[49m\u001b[43m,\u001b[49m\u001b[43m \u001b[49m\u001b[43mouter_radius\u001b[49m\u001b[43m,\u001b[49m\u001b[43m \u001b[49m\u001b[43mnum_iterations\u001b[49m\u001b[43m,\u001b[49m\u001b[43m \u001b[49m\u001b[43mmin_horizontal_scale\u001b[49m\u001b[43m,\u001b[49m\u001b[43m \u001b[49m\u001b[43mmax_horizontal_scale\u001b[49m\u001b[43m,\u001b[49m\u001b[43m \u001b[49m\u001b[43mkth_closest_obs_horizontal_scale\u001b[49m\u001b[43m,\u001b[49m\u001b[43m \u001b[49m\u001b[43mvertical_scale\u001b[49m\u001b[43m,\u001b[49m\u001b[43m \u001b[49m\u001b[43mtest_thresholds\u001b[49m\u001b[43m,\u001b[49m\u001b[43m \u001b[49m\u001b[43mdebug\u001b[49m\u001b[43m)\u001b[49m\n",
      "\u001b[0;31mTypeError\u001b[0m: Could not convert input to 1D array of type 'float'"
     ]
    }
   ],
   "source": [
    "N = len(lats)\n",
    "obs_to_check = np.ones(N)\n",
    "event_thresholds = 0.1\n",
    "test_thresholds = 0.8\n",
    "#condition = titanlib.Gt\n",
    "\n",
    "condition = titanlib.MedianOuterCircle\n",
    "\n",
    "num_min_outer = 3\n",
    "num_max_outer = 10\n",
    "inner_radius = 20000\n",
    "outer_radius = 50000\n",
    "num_iterations = 10\n",
    "min_horizontal_scale = 250 \n",
    "max_horizontal_scale = 100000\n",
    "kth_closest_obs_horizontal_scale = 2\n",
    "vertical_scale = 200\n",
    "debug = True\n",
    "titanlib.sct_dual(points, temp_obs, obs_to_check, event_thresholds, condition,\n",
    "                 num_min_outer, num_max_outer, inner_radius, outer_radius,\n",
    "                 num_iterations, min_horizontal_scale, max_horizontal_scale,\n",
    "                 kth_closest_obs_horizontal_scale, vertical_scale,\n",
    "                 test_thresholds, debug)"
   ]
  },
  {
   "cell_type": "code",
   "execution_count": null,
   "id": "c923186e-e98b-4c1c-b8ea-350d0611dfd1",
   "metadata": {},
   "outputs": [],
   "source": []
  }
 ],
 "metadata": {
  "kernelspec": {
   "display_name": "Python 3 (ipykernel)",
   "language": "python",
   "name": "python3"
  },
  "language_info": {
   "codemirror_mode": {
    "name": "ipython",
    "version": 3
   },
   "file_extension": ".py",
   "mimetype": "text/x-python",
   "name": "python",
   "nbconvert_exporter": "python",
   "pygments_lexer": "ipython3",
   "version": "3.9.21"
  }
 },
 "nbformat": 4,
 "nbformat_minor": 5
}
