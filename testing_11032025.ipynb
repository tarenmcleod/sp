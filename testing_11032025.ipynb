{
 "cells": [
  {
   "cell_type": "code",
   "execution_count": 5,
   "id": "40fea855-be18-4c1c-bf2c-f28cc10ad6cf",
   "metadata": {},
   "outputs": [
    {
     "name": "stdout",
     "output_type": "stream",
     "text": [
      "              Station                           Time Temperature  Wind Speed  \\\n",
      "0     nebelhorn-pit_3  2024-01-10T10:00:00.000000000        None         NaN   \n",
      "1   nebelhorn-pit_116  2024-01-10T10:00:00.000000000        None         NaN   \n",
      "2   nebelhorn-pit_305  2024-01-10T10:00:00.000000000        None         NaN   \n",
      "3   nebelhorn-pit_209  2024-01-10T10:00:00.000000000        None         NaN   \n",
      "4   nebelhorn-pit_119  2024-01-10T10:00:00.000000000        None         NaN   \n",
      "..                ...                            ...         ...         ...   \n",
      "89  nebelhorn-pit_611  2024-01-10T10:00:00.000000000        None         NaN   \n",
      "90  nebelhorn-pit_213  2024-01-10T10:00:00.000000000        None         NaN   \n",
      "91           dwd_3730  2024-01-10T10:00:00.000000000        None         2.0   \n",
      "92  nebelhorn-pit_101  2024-01-10T10:00:00.000000000        None         NaN   \n",
      "93  nebelhorn-pit_306  2024-01-10T10:00:00.000000000        None         NaN   \n",
      "\n",
      "   Pressure  \n",
      "0      None  \n",
      "1      None  \n",
      "2      None  \n",
      "3      None  \n",
      "4      None  \n",
      "..      ...  \n",
      "89     None  \n",
      "90     None  \n",
      "91     None  \n",
      "92     None  \n",
      "93     None  \n",
      "\n",
      "[94 rows x 5 columns]\n"
     ]
    }
   ],
   "source": [
    "import xarray as xr\n",
    "import pandas as pd\n",
    "import os\n",
    "\n",
    "# Folder containing NetCDF files\n",
    "folder_path = \"/home/pcuser/titanlib/notebooks/nebelhorn\"\n",
    "\n",
    "# Define the timestamp you want to compare\n",
    "target_time = \"2024-01-10T10:00:00\"  # Change as needed\n",
    "\n",
    "# List to store data from each file\n",
    "data_list = []\n",
    "\n",
    "# Loop through all NetCDF files in the folder\n",
    "for file in os.listdir(folder_path):\n",
    "    if file.endswith(\".nc\"):\n",
    "        file_path = os.path.join(folder_path, file)\n",
    "        \n",
    "        # Open the NetCDF file\n",
    "        ds = xr.open_dataset(file_path)\n",
    "        \n",
    "        # Extract station name (assuming it's in the filename or attributes)\n",
    "        station_name = file.split(\".nc\")[0]  # Modify if needed\n",
    "        \n",
    "        # Extract the nearest available time to the target time\n",
    "        ds = ds.sel(time=pd.to_datetime(target_time), method=\"nearest\")\n",
    "        \n",
    "        # Extract relevant variables (modify based on your data)\n",
    "        temp = ds.get(\"temperature\", None)\n",
    "        wind_speed = ds.get(\"wind_speed\", None)\n",
    "        pressure = ds.get(\"pressure\", None)\n",
    "        \n",
    "        # Store extracted data\n",
    "        data_list.append({\n",
    "            \"Station\": station_name,\n",
    "            \"Time\": str(ds.time.values),\n",
    "            \"Temperature\": float(temp.values) if temp is not None else None,\n",
    "            \"Wind Speed\": float(wind_speed.values) if wind_speed is not None else None,\n",
    "            \"Pressure\": float(pressure.values) if pressure is not None else None\n",
    "        })\n",
    "        \n",
    "        ds.close()\n",
    "\n",
    "# Convert to Pandas DataFrame for easy comparison\n",
    "df = pd.DataFrame(data_list)\n",
    "\n",
    "# Display the DataFrame\n",
    "print(df)\n",
    "\n",
    "# Optionally, save to CSV\n",
    "df.to_csv(\"weather_comparison.csv\", index=False)\n"
   ]
  },
  {
   "cell_type": "code",
   "execution_count": 6,
   "id": "62da161b-dfda-4fdb-ae1e-09357a7a81fa",
   "metadata": {},
   "outputs": [
    {
     "data": {
      "text/html": [
       "<div>\n",
       "<style scoped>\n",
       "    .dataframe tbody tr th:only-of-type {\n",
       "        vertical-align: middle;\n",
       "    }\n",
       "\n",
       "    .dataframe tbody tr th {\n",
       "        vertical-align: top;\n",
       "    }\n",
       "\n",
       "    .dataframe thead th {\n",
       "        text-align: right;\n",
       "    }\n",
       "</style>\n",
       "<table border=\"1\" class=\"dataframe\">\n",
       "  <thead>\n",
       "    <tr style=\"text-align: right;\">\n",
       "      <th></th>\n",
       "      <th>Station</th>\n",
       "      <th>Time</th>\n",
       "      <th>Temperature</th>\n",
       "      <th>Relative Humidity</th>\n",
       "      <th>Longitude</th>\n",
       "      <th>Latitude</th>\n",
       "      <th>Altitude</th>\n",
       "    </tr>\n",
       "  </thead>\n",
       "  <tbody>\n",
       "    <tr>\n",
       "      <th>0</th>\n",
       "      <td>nebelhorn-pit_3</td>\n",
       "      <td>2019-12-01T12:00:00.000000000</td>\n",
       "      <td>NaN</td>\n",
       "      <td>NaN</td>\n",
       "      <td>10.315118</td>\n",
       "      <td>47.409702</td>\n",
       "      <td>1335.480957</td>\n",
       "    </tr>\n",
       "    <tr>\n",
       "      <th>1</th>\n",
       "      <td>nebelhorn-pit_116</td>\n",
       "      <td>2019-12-01T12:00:00.000000000</td>\n",
       "      <td>273.083333</td>\n",
       "      <td>98.725000</td>\n",
       "      <td>10.296711</td>\n",
       "      <td>47.410301</td>\n",
       "      <td>1025.077026</td>\n",
       "    </tr>\n",
       "    <tr>\n",
       "      <th>2</th>\n",
       "      <td>nebelhorn-pit_305</td>\n",
       "      <td>2019-12-01T12:00:00.000000000</td>\n",
       "      <td>NaN</td>\n",
       "      <td>NaN</td>\n",
       "      <td>10.345387</td>\n",
       "      <td>47.412685</td>\n",
       "      <td>1911.375977</td>\n",
       "    </tr>\n",
       "    <tr>\n",
       "      <th>3</th>\n",
       "      <td>nebelhorn-pit_209</td>\n",
       "      <td>2019-12-01T12:00:00.000000000</td>\n",
       "      <td>NaN</td>\n",
       "      <td>NaN</td>\n",
       "      <td>10.326666</td>\n",
       "      <td>47.408394</td>\n",
       "      <td>1395.333008</td>\n",
       "    </tr>\n",
       "    <tr>\n",
       "      <th>4</th>\n",
       "      <td>nebelhorn-pit_119</td>\n",
       "      <td>2019-12-01T12:00:00.000000000</td>\n",
       "      <td>273.483333</td>\n",
       "      <td>98.291667</td>\n",
       "      <td>10.295107</td>\n",
       "      <td>47.408539</td>\n",
       "      <td>976.849976</td>\n",
       "    </tr>\n",
       "  </tbody>\n",
       "</table>\n",
       "</div>"
      ],
      "text/plain": [
       "             Station                           Time  Temperature  \\\n",
       "0    nebelhorn-pit_3  2019-12-01T12:00:00.000000000          NaN   \n",
       "1  nebelhorn-pit_116  2019-12-01T12:00:00.000000000   273.083333   \n",
       "2  nebelhorn-pit_305  2019-12-01T12:00:00.000000000          NaN   \n",
       "3  nebelhorn-pit_209  2019-12-01T12:00:00.000000000          NaN   \n",
       "4  nebelhorn-pit_119  2019-12-01T12:00:00.000000000   273.483333   \n",
       "\n",
       "   Relative Humidity  Longitude   Latitude     Altitude  \n",
       "0                NaN  10.315118  47.409702  1335.480957  \n",
       "1          98.725000  10.296711  47.410301  1025.077026  \n",
       "2                NaN  10.345387  47.412685  1911.375977  \n",
       "3                NaN  10.326666  47.408394  1395.333008  \n",
       "4          98.291667  10.295107  47.408539   976.849976  "
      ]
     },
     "execution_count": 6,
     "metadata": {},
     "output_type": "execute_result"
    }
   ],
   "source": [
    "# Define winter months again (Northern Hemisphere: December, January, February)\n",
    "winter_months = [12, 1, 2]\n",
    "\n",
    "# Define a function to find the first available winter daytime timestamp\n",
    "def get_winter_daytime_timestamp(time_values):\n",
    "    # Convert to pandas datetime\n",
    "    time_values = pd.to_datetime(time_values)\n",
    "    # Filter for winter months and daytime hours (12:00 - 15:00)\n",
    "    winter_times = [t for t in time_values if t.month in winter_months and 12 <= t.hour <= 15]\n",
    "    # Return the first available timestamp if any exist\n",
    "    return winter_times[0] if winter_times else None\n",
    "\n",
    "# List to store extracted data\n",
    "data_list = []\n",
    "\n",
    "# Loop through all NetCDF files in the folder\n",
    "for file in os.listdir(folder_path):\n",
    "    if file.endswith(\".nc\"):\n",
    "        file_path = os.path.join(folder_path, file)\n",
    "        \n",
    "        # Open the NetCDF file\n",
    "        ds = xr.open_dataset(file_path)\n",
    "        \n",
    "        # Extract station name (assuming it's in the filename)\n",
    "        station_name = file.split(\".nc\")[0]\n",
    "        \n",
    "        # Find the first available winter daytime timestamp\n",
    "        selected_time = get_winter_daytime_timestamp(ds[\"time\"].values)\n",
    "        \n",
    "        if selected_time:\n",
    "            # Select the nearest available time\n",
    "            ds_sel = ds.sel(time=selected_time, method=\"nearest\")\n",
    "\n",
    "            # Extract relevant variables\n",
    "            temp = ds_sel[\"temp\"].values.item() if \"temp\" in ds_sel else None\n",
    "            rel_hum = ds_sel[\"rel_hum\"].values.item() if \"rel_hum\" in ds_sel else None\n",
    "            lon = ds_sel[\"lon\"].values.item() if \"lon\" in ds_sel else None\n",
    "            lat = ds_sel[\"lat\"].values.item() if \"lat\" in ds_sel else None\n",
    "            alt = ds_sel[\"alt\"].values.item() if \"alt\" in ds_sel else None\n",
    "\n",
    "            # Append to list\n",
    "            data_list.append({\n",
    "                \"Station\": station_name,\n",
    "                \"Time\": str(ds_sel.time.values),\n",
    "                \"Temperature\": temp,\n",
    "                \"Relative Humidity\": rel_hum,\n",
    "                \"Longitude\": lon,\n",
    "                \"Latitude\": lat,\n",
    "                \"Altitude\": alt,\n",
    "            })\n",
    "\n",
    "        # Close dataset\n",
    "        ds.close()\n",
    "\n",
    "# Convert to Pandas DataFrame for easy comparison\n",
    "df = pd.DataFrame(data_list)\n",
    "\n",
    "# Display DataFrame\n",
    "df.head()\n"
   ]
  },
  {
   "cell_type": "code",
   "execution_count": null,
   "id": "10cf889e-0c71-4634-ba77-496d2101e5f0",
   "metadata": {},
   "outputs": [],
   "source": []
  },
  {
   "cell_type": "code",
   "execution_count": 7,
   "id": "92b9ee7f-0d17-491c-b5d2-b6831b0dcafb",
   "metadata": {},
   "outputs": [
    {
     "name": "stdout",
     "output_type": "stream",
     "text": [
      "[1 0 1 1 0 1 1 1 0 0 0 0 1 1 0 1 0 0 1 0 1 1 1 0 1 0 0 0 0 0 1 0 0 0 0 1 0\n",
      " 0 1 0 0 1 1 0 0 0 1 0 0 0 1 0 0 0 0 0 0 0 0 0 0 0 1 0 0 1 0 0 1 0 1 1 0 0\n",
      " 1 0 0 1 1 0 0 0 0 1 0 1 0 0 1 0 0 0 0 1]\n"
     ]
    },
    {
     "name": "stderr",
     "output_type": "stream",
     "text": [
      "/tmp/ipykernel_2333/2560626354.py:15: DeprecationWarning: numpy.core.arrayprint is deprecated and has been renamed to numpy._core.arrayprint. The numpy._core namespace contains private NumPy internals and its use is discouraged, as NumPy internals can change without warning in any release. In practice, most real-world usage of numpy.core is to access functionality in the public NumPy API. If that is the case, use the public NumPy API. If not, you are using NumPy internals. If you would still like to access an internal attribute, use numpy._core.arrayprint._default_array_str.\n",
      "  print(flags)\n"
     ]
    }
   ],
   "source": [
    "import titanlib\n",
    "\n",
    "# Extract the relevant columns\n",
    "latitude = df['Latitude'].values\n",
    "longitude = df['Longitude'].values\n",
    "altitude = df['Altitude'].values\n",
    "temperature = df['Temperature'].values  # Observations (e.g., temperature)\n",
    "\n",
    "# Create TitanLib Points object\n",
    "points = titanlib.Points(latitude, longitude, altitude, temperature)\n",
    "flags = titanlib.metadata_check(\n",
    "    points, True, True, True, True\n",
    ")\n",
    "\n",
    "print(flags)"
   ]
  },
  {
   "cell_type": "code",
   "execution_count": 8,
   "id": "382ffa2f-d5d7-4b02-b692-4c3a32cd0624",
   "metadata": {},
   "outputs": [
    {
     "data": {
      "image/png": "[encoded data removed]",
      "text/plain": [
       "<Figure size 1000x600 with 1 Axes>"
      ]
     },
     "metadata": {},
     "output_type": "display_data"
    }
   ],
   "source": [
    "import matplotlib.pyplot as plt\n",
    "import cartopy.crs as ccrs\n",
    "import cartopy.feature as cfeature\n",
    "import numpy as np\n",
    "\n",
    "# Extract flagged and unflagged indices\n",
    "flagged_indices = np.where(flags != 0)[0]  # Flags that are not 0 (invalid)\n",
    "unflagged_indices = np.where(flags == 0)[0]  # Valid data points\n",
    "\n",
    "# Create a map\n",
    "fig, ax = plt.subplots(figsize=(10, 6), subplot_kw={\"projection\": ccrs.PlateCarree()})\n",
    "\n",
    "# Add map features\n",
    "ax.add_feature(cfeature.BORDERS, linestyle=\":\")\n",
    "ax.add_feature(cfeature.COASTLINE)\n",
    "\n",
    "# Plot valid observations (green)\n",
    "ax.scatter(\n",
    "    longitude[unflagged_indices], latitude[unflagged_indices],\n",
    "    c=\"green\", label=\"Valid Data\", edgecolors=\"black\", transform=ccrs.PlateCarree()\n",
    ")\n",
    "\n",
    "# Plot flagged observations (red)\n",
    "ax.scatter(\n",
    "    longitude[flagged_indices], latitude[flagged_indices],\n",
    "    c=\"red\", label=\"Flagged Data\", edgecolors=\"black\", transform=ccrs.PlateCarree()\n",
    ")\n",
    "\n",
    "# Add title & legend\n",
    "ax.set_title(\"Flagged vs. Valid Weather Observations\")\n",
    "ax.legend()\n",
    "\n",
    "# Show the map\n",
    "plt.show()\n"
   ]
  },
  {
   "cell_type": "code",
   "execution_count": null,
   "id": "4c94efdb-0828-403b-b2fd-d00e3ad385ee",
   "metadata": {},
   "outputs": [],
   "source": [
    "import matplotlib.pyplot as plt\n",
    "plt.figure()\n",
    "plt.show()"
   ]
  },
  {
   "cell_type": "code",
   "execution_count": 9,
   "id": "d25917f1-f5af-43e0-88a2-a17b29f5697b",
   "metadata": {},
   "outputs": [
    {
     "ename": "KeyError",
     "evalue": "\"None of [Index([ True, False,  True,  True, False,  True,  True,  True, False, False,\\n       False, False,  True,  True, False,  True, False, False,  True, False,\\n        True,  True,  True, False,  True, False, False, False, False, False,\\n        True, False, False, False, False,  True, False, False,  True, False,\\n       False,  True,  True, False, False, False,  True, False, False, False,\\n        True, False, False, False, False, False, False, False, False, False,\\n       False, False,  True, False, False,  True, False, False,  True, False,\\n        True,  True, False, False,  True, False, False,  True,  True, False,\\n       False, False, False,  True, False,  True, False, False,  True, False,\\n       False, False, False,  True],\\n      dtype='bool')] are in the [columns]\"",
     "output_type": "error",
     "traceback": [
      "\u001b[0;31m---------------------------------------------------------------------------\u001b[0m",
      "\u001b[0;31mKeyError\u001b[0m                                  Traceback (most recent call last)",
      "Cell \u001b[0;32mIn[9], line 1\u001b[0m\n\u001b[0;32m----> 1\u001b[0m filtered_df \u001b[38;5;241m=\u001b[39m \u001b[43mdf\u001b[49m\u001b[43m[\u001b[49m\u001b[43mflags\u001b[49m\u001b[43m \u001b[49m\u001b[38;5;241;43m==\u001b[39;49m\u001b[43m \u001b[49m\u001b[38;5;241;43m1\u001b[39;49m\u001b[43m]\u001b[49m\n\u001b[1;32m      3\u001b[0m \u001b[38;5;28mprint\u001b[39m(filtered_df)\n",
      "File \u001b[0;32m~/miniconda3/envs/titanlib-env/lib/python3.9/site-packages/pandas/core/frame.py:4108\u001b[0m, in \u001b[0;36mDataFrame.__getitem__\u001b[0;34m(self, key)\u001b[0m\n\u001b[1;32m   4106\u001b[0m     \u001b[38;5;28;01mif\u001b[39;00m is_iterator(key):\n\u001b[1;32m   4107\u001b[0m         key \u001b[38;5;241m=\u001b[39m \u001b[38;5;28mlist\u001b[39m(key)\n\u001b[0;32m-> 4108\u001b[0m     indexer \u001b[38;5;241m=\u001b[39m \u001b[38;5;28;43mself\u001b[39;49m\u001b[38;5;241;43m.\u001b[39;49m\u001b[43mcolumns\u001b[49m\u001b[38;5;241;43m.\u001b[39;49m\u001b[43m_get_indexer_strict\u001b[49m\u001b[43m(\u001b[49m\u001b[43mkey\u001b[49m\u001b[43m,\u001b[49m\u001b[43m \u001b[49m\u001b[38;5;124;43m\"\u001b[39;49m\u001b[38;5;124;43mcolumns\u001b[39;49m\u001b[38;5;124;43m\"\u001b[39;49m\u001b[43m)\u001b[49m[\u001b[38;5;241m1\u001b[39m]\n\u001b[1;32m   4110\u001b[0m \u001b[38;5;66;03m# take() does not accept boolean indexers\u001b[39;00m\n\u001b[1;32m   4111\u001b[0m \u001b[38;5;28;01mif\u001b[39;00m \u001b[38;5;28mgetattr\u001b[39m(indexer, \u001b[38;5;124m\"\u001b[39m\u001b[38;5;124mdtype\u001b[39m\u001b[38;5;124m\"\u001b[39m, \u001b[38;5;28;01mNone\u001b[39;00m) \u001b[38;5;241m==\u001b[39m \u001b[38;5;28mbool\u001b[39m:\n",
      "File \u001b[0;32m~/miniconda3/envs/titanlib-env/lib/python3.9/site-packages/pandas/core/indexes/base.py:6200\u001b[0m, in \u001b[0;36mIndex._get_indexer_strict\u001b[0;34m(self, key, axis_name)\u001b[0m\n\u001b[1;32m   6197\u001b[0m \u001b[38;5;28;01melse\u001b[39;00m:\n\u001b[1;32m   6198\u001b[0m     keyarr, indexer, new_indexer \u001b[38;5;241m=\u001b[39m \u001b[38;5;28mself\u001b[39m\u001b[38;5;241m.\u001b[39m_reindex_non_unique(keyarr)\n\u001b[0;32m-> 6200\u001b[0m \u001b[38;5;28;43mself\u001b[39;49m\u001b[38;5;241;43m.\u001b[39;49m\u001b[43m_raise_if_missing\u001b[49m\u001b[43m(\u001b[49m\u001b[43mkeyarr\u001b[49m\u001b[43m,\u001b[49m\u001b[43m \u001b[49m\u001b[43mindexer\u001b[49m\u001b[43m,\u001b[49m\u001b[43m \u001b[49m\u001b[43maxis_name\u001b[49m\u001b[43m)\u001b[49m\n\u001b[1;32m   6202\u001b[0m keyarr \u001b[38;5;241m=\u001b[39m \u001b[38;5;28mself\u001b[39m\u001b[38;5;241m.\u001b[39mtake(indexer)\n\u001b[1;32m   6203\u001b[0m \u001b[38;5;28;01mif\u001b[39;00m \u001b[38;5;28misinstance\u001b[39m(key, Index):\n\u001b[1;32m   6204\u001b[0m     \u001b[38;5;66;03m# GH 42790 - Preserve name from an Index\u001b[39;00m\n",
      "File \u001b[0;32m~/miniconda3/envs/titanlib-env/lib/python3.9/site-packages/pandas/core/indexes/base.py:6249\u001b[0m, in \u001b[0;36mIndex._raise_if_missing\u001b[0;34m(self, key, indexer, axis_name)\u001b[0m\n\u001b[1;32m   6247\u001b[0m \u001b[38;5;28;01mif\u001b[39;00m nmissing:\n\u001b[1;32m   6248\u001b[0m     \u001b[38;5;28;01mif\u001b[39;00m nmissing \u001b[38;5;241m==\u001b[39m \u001b[38;5;28mlen\u001b[39m(indexer):\n\u001b[0;32m-> 6249\u001b[0m         \u001b[38;5;28;01mraise\u001b[39;00m \u001b[38;5;167;01mKeyError\u001b[39;00m(\u001b[38;5;124mf\u001b[39m\u001b[38;5;124m\"\u001b[39m\u001b[38;5;124mNone of [\u001b[39m\u001b[38;5;132;01m{\u001b[39;00mkey\u001b[38;5;132;01m}\u001b[39;00m\u001b[38;5;124m] are in the [\u001b[39m\u001b[38;5;132;01m{\u001b[39;00maxis_name\u001b[38;5;132;01m}\u001b[39;00m\u001b[38;5;124m]\u001b[39m\u001b[38;5;124m\"\u001b[39m)\n\u001b[1;32m   6251\u001b[0m     not_found \u001b[38;5;241m=\u001b[39m \u001b[38;5;28mlist\u001b[39m(ensure_index(key)[missing_mask\u001b[38;5;241m.\u001b[39mnonzero()[\u001b[38;5;241m0\u001b[39m]]\u001b[38;5;241m.\u001b[39munique())\n\u001b[1;32m   6252\u001b[0m     \u001b[38;5;28;01mraise\u001b[39;00m \u001b[38;5;167;01mKeyError\u001b[39;00m(\u001b[38;5;124mf\u001b[39m\u001b[38;5;124m\"\u001b[39m\u001b[38;5;132;01m{\u001b[39;00mnot_found\u001b[38;5;132;01m}\u001b[39;00m\u001b[38;5;124m not in index\u001b[39m\u001b[38;5;124m\"\u001b[39m)\n",
      "\u001b[0;31mKeyError\u001b[0m: \"None of [Index([ True, False,  True,  True, False,  True,  True,  True, False, False,\\n       False, False,  True,  True, False,  True, False, False,  True, False,\\n        True,  True,  True, False,  True, False, False, False, False, False,\\n        True, False, False, False, False,  True, False, False,  True, False,\\n       False,  True,  True, False, False, False,  True, False, False, False,\\n        True, False, False, False, False, False, False, False, False, False,\\n       False, False,  True, False, False,  True, False, False,  True, False,\\n        True,  True, False, False,  True, False, False,  True,  True, False,\\n       False, False, False,  True, False,  True, False, False,  True, False,\\n       False, False, False,  True],\\n      dtype='bool')] are in the [columns]\""
     ]
    }
   ],
   "source": [
    "filtered_df = df[flags == 1]\n",
    "\n",
    "print(filtered_df)"
   ]
  },
  {
   "cell_type": "code",
   "execution_count": 13,
   "id": "41cbef28-11d2-43f0-9001-fced478951e4",
   "metadata": {},
   "outputs": [
    {
     "name": "stdout",
     "output_type": "stream",
     "text": [
      "94\n",
      "94\n"
     ]
    }
   ],
   "source": [
    "# Check number of rows in the DataFrame\n",
    "print(len(df))\n",
    "\n",
    "# Check the length of flags\n",
    "print(len(flags))\n"
   ]
  },
  {
   "cell_type": "code",
   "execution_count": 15,
   "id": "d20348f3-58f4-415f-b924-b7da9e518220",
   "metadata": {},
   "outputs": [
    {
     "name": "stdout",
     "output_type": "stream",
     "text": [
      "[ True False  True  True False  True  True  True False False False False\n",
      "  True  True False  True False False  True False  True  True  True False\n",
      "  True False False False False False  True False False False False  True\n",
      " False False  True False False  True  True False False False  True False\n",
      " False False  True False False False False False False False False False\n",
      " False False  True False False  True False False  True False  True  True\n",
      " False False  True False False  True  True False False False False  True\n",
      " False  True False False  True False False False False  True]\n",
      "(94, 7)\n"
     ]
    }
   ],
   "source": [
    "print(flags == 1)  # Check the boolean array generated by flags == 1\n",
    "print(df.shape)    # Check the shape of the DataFrame\n",
    "\n"
   ]
  },
  {
   "cell_type": "code",
   "execution_count": null,
   "id": "46e39ecc-6a43-4abc-8e60-ceecd71ade09",
   "metadata": {},
   "outputs": [],
   "source": [
    "print(df.columns.tolist())\n",
    "print(df.head())\n",
    "print(np.isnan(flags).any())\n",
    "\n"
   ]
  },
  {
   "cell_type": "code",
   "execution_count": 1,
   "id": "b6ea5663-a930-475c-a908-abc4e7dbdeaf",
   "metadata": {},
   "outputs": [
    {
     "name": "stdout",
     "output_type": "stream",
     "text": [
      "   A  B\n",
      "0  1  4\n",
      "2  3  6\n"
     ]
    }
   ],
   "source": [
    "import pandas as pd\n",
    "import numpy as np\n",
    "\n",
    "# Minimal DataFrame\n",
    "df = pd.DataFrame({\n",
    "    'A': [1, 2, 3],\n",
    "    'B': [4, 5, 6]\n",
    "})\n",
    "\n",
    "# Minimal flags array\n",
    "flags = np.array([1, 0, 1])\n",
    "\n",
    "# Attempt filtering\n",
    "filtered_df = df[flags == 1]\n",
    "print(filtered_df)\n"
   ]
  },
  {
   "cell_type": "code",
   "execution_count": null,
   "id": "21fbd4b2-2a31-4b2e-a19a-642d868da244",
   "metadata": {},
   "outputs": [],
   "source": []
  }
 ],
 "metadata": {
  "kernelspec": {
   "display_name": "Python 3 (ipykernel)",
   "language": "python",
   "name": "python3"
  },
  "language_info": {
   "codemirror_mode": {
    "name": "ipython",
    "version": 3
   },
   "file_extension": ".py",
   "mimetype": "text/x-python",
   "name": "python",
   "nbconvert_exporter": "python",
   "pygments_lexer": "ipython3",
   "version": "3.9.21"
  }
 },
 "nbformat": 4,
 "nbformat_minor": 5
}
